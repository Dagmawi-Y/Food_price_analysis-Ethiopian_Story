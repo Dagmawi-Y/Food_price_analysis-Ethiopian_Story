{
 "cells": [
  {
   "cell_type": "markdown",
   "id": "3230be9f-a86b-4de4-badb-a256d9ff5300",
   "metadata": {
    "id": "3230be9f-a86b-4de4-badb-a256d9ff5300"
   },
   "source": [
    "# **Unlocking Food Price Insights - An Advanced Analysis**\n",
    "\n",
    "---\n",
    "\n",
    "\n",
    "\n",
    "![Image: A global map visualizing food price trends with different color intensities representing price levels.](https://as2.ftcdn.net/v2/jpg/05/73/83/03/1000_F_573830325_ATVFFmqEIWQ8ltIqxnTWULsh8R6VmzRf.jpg)\n",
    "\n",
    "---\n",
    "\n",
    "\n",
    "\n",
    "**Welcome!**\n",
    "\n",
    "In this notebook, we'll conduct advanced analysis and predictive modeling using the WFP Food Prices Database. While we'll place particular emphasis on Food Security Assessment in Ethiopia, our exploration extends to several other critical areas.\n",
    "\n",
    "We'll begin by meticulously examining the data and transforming it for deeper insights. Then, leveraging Power BI's advanced capabilities, we'll delve into various analyses, including inflation trends, regional price disparities, market integration, and predictive modeling for price forecasting.\n",
    "\n",
    "Discover how data-driven methods are used to address global food security challenges!\n",
    "\n",
    "---\n",
    "\n",
    "\n"
   ]
  },
  {
   "cell_type": "markdown",
   "id": "3c8999e7-b56b-4872-b4dc-7925c955c3cd",
   "metadata": {
    "id": "3c8999e7-b56b-4872-b4dc-7925c955c3cd"
   },
   "source": [
    "# **I. Data Extraction**"
   ]
  },
  {
   "cell_type": "markdown",
   "id": "36d9db0c-3107-419e-919a-33a9de92c647",
   "metadata": {
    "id": "36d9db0c-3107-419e-919a-33a9de92c647"
   },
   "source": [
    "## 1: Import Necessary Libraries"
   ]
  },
  {
   "cell_type": "code",
   "execution_count": 92,
   "id": "44a4834a-f0e6-480c-93a6-1322a8bc17ba",
   "metadata": {
    "id": "44a4834a-f0e6-480c-93a6-1322a8bc17ba"
   },
   "outputs": [],
   "source": [
    "import pandas as pd"
   ]
  },
  {
   "cell_type": "markdown",
   "id": "0d407e1a-2ca8-4076-a103-e4921efe72a0",
   "metadata": {
    "id": "0d407e1a-2ca8-4076-a103-e4921efe72a0"
   },
   "source": [
    "## 2: Load The Dataset"
   ]
  },
  {
   "cell_type": "code",
   "execution_count": 93,
   "id": "d1c5645f-a92d-4f14-9370-e0d6710e9ba6",
   "metadata": {
    "id": "d1c5645f-a92d-4f14-9370-e0d6710e9ba6"
   },
   "outputs": [],
   "source": [
    "# Assuming the dataset is named 'wfp_food_prices_database.csv' and located in the same directory as the notebook\n",
    "file_path = 'wfp_food_prices_database.csv'\n",
    "\n",
    "# Use pandas to read the CSV file into a DataFrame\n",
    "df = pd.read_csv(file_path, low_memory=False)"
   ]
  },
  {
   "cell_type": "code",
   "execution_count": 94,
   "id": "RFJjbubcNQNg",
   "metadata": {
    "colab": {
     "base_uri": "https://localhost:8080/"
    },
    "id": "RFJjbubcNQNg",
    "outputId": "c52de261-ef6d-4156-bc78-e9cba96fa29f"
   },
   "outputs": [
    {
     "name": "stdout",
     "output_type": "stream",
     "text": [
      "Index(['adm0_id', 'adm0_name', 'adm1_id', 'adm1_name', 'mkt_id', 'mkt_name',\n",
      "       'cm_id', 'cm_name', 'cur_id', 'cur_name', 'pt_id', 'pt_name', 'um_id',\n",
      "       'um_name', 'mp_month', 'mp_year', 'mp_price', 'mp_commoditysource'],\n",
      "      dtype='object')\n"
     ]
    }
   ],
   "source": [
    "print(df.columns)"
   ]
  },
  {
   "cell_type": "markdown",
   "id": "17459f03-4e2f-496c-92f7-49d9931d1eb2",
   "metadata": {
    "id": "17459f03-4e2f-496c-92f7-49d9931d1eb2"
   },
   "source": [
    "## 3: Initial Data Exploration"
   ]
  },
  {
   "cell_type": "code",
   "execution_count": 95,
   "id": "ba6e85e6-67bd-4dda-bad7-6ca04f79b1d3",
   "metadata": {
    "colab": {
     "base_uri": "https://localhost:8080/"
    },
    "id": "ba6e85e6-67bd-4dda-bad7-6ca04f79b1d3",
    "outputId": "d4361265-ad59-445f-a5ee-8722ffc1d87c"
   },
   "outputs": [
    {
     "name": "stdout",
     "output_type": "stream",
     "text": [
      "First few rows of the dataset:\n",
      "   adm0_id    adm0_name  adm1_id   adm1_name  mkt_id  mkt_name  cm_id  \\\n",
      "0      1.0  Afghanistan      272  Badakhshan     266  Fayzabad     55   \n",
      "1      1.0  Afghanistan      272  Badakhshan     266  Fayzabad     55   \n",
      "2      1.0  Afghanistan      272  Badakhshan     266  Fayzabad     55   \n",
      "3      1.0  Afghanistan      272  Badakhshan     266  Fayzabad     55   \n",
      "4      1.0  Afghanistan      272  Badakhshan     266  Fayzabad     55   \n",
      "\n",
      "          cm_name  cur_id cur_name  pt_id pt_name  um_id um_name  mp_month  \\\n",
      "0  Bread - Retail     0.0      AFN     15  Retail      5      KG         1   \n",
      "1  Bread - Retail     0.0      AFN     15  Retail      5      KG         2   \n",
      "2  Bread - Retail     0.0      AFN     15  Retail      5      KG         3   \n",
      "3  Bread - Retail     0.0      AFN     15  Retail      5      KG         4   \n",
      "4  Bread - Retail     0.0      AFN     15  Retail      5      KG         5   \n",
      "\n",
      "   mp_year  mp_price  mp_commoditysource  \n",
      "0     2014      50.0                 NaN  \n",
      "1     2014      50.0                 NaN  \n",
      "2     2014      50.0                 NaN  \n",
      "3     2014      50.0                 NaN  \n",
      "4     2014      50.0                 NaN  \n",
      "\n",
      "Data types and missing values:\n",
      "<class 'pandas.core.frame.DataFrame'>\n",
      "RangeIndex: 1560551 entries, 0 to 1560550\n",
      "Data columns (total 18 columns):\n",
      " #   Column              Non-Null Count    Dtype  \n",
      "---  ------              --------------    -----  \n",
      " 0   adm0_id             1560551 non-null  float64\n",
      " 1   adm0_name           1560551 non-null  object \n",
      " 2   adm1_id             1560551 non-null  int64  \n",
      " 3   adm1_name           1089223 non-null  object \n",
      " 4   mkt_id              1560551 non-null  int64  \n",
      " 5   mkt_name            1560551 non-null  object \n",
      " 6   cm_id               1560551 non-null  int64  \n",
      " 7   cm_name             1560551 non-null  object \n",
      " 8   cur_id              1560551 non-null  float64\n",
      " 9   cur_name            1560551 non-null  object \n",
      " 10  pt_id               1560551 non-null  int64  \n",
      " 11  pt_name             1560551 non-null  object \n",
      " 12  um_id               1560551 non-null  int64  \n",
      " 13  um_name             1560551 non-null  object \n",
      " 14  mp_month            1560551 non-null  int64  \n",
      " 15  mp_year             1560551 non-null  int64  \n",
      " 16  mp_price            1560551 non-null  float64\n",
      " 17  mp_commoditysource  0 non-null        float64\n",
      "dtypes: float64(4), int64(7), object(7)\n",
      "memory usage: 214.3+ MB\n",
      "None\n",
      "\n",
      "Summary statistics:\n",
      "            adm0_id       adm1_id        mkt_id         cm_id     cur_id  \\\n",
      "count  1.560551e+06  1.560551e+06  1.560551e+06  1.560551e+06  1560551.0   \n",
      "mean   9.844180e+02  2.754153e+04  1.264696e+03  1.881567e+02        0.0   \n",
      "std    6.950778e+03  1.236072e+05  8.436958e+02  1.502811e+02        0.0   \n",
      "min    1.000000e+00  0.000000e+00  8.000000e+01  5.000000e+01        0.0   \n",
      "25%    1.080000e+02  1.572000e+03  5.340000e+02  7.100000e+01        0.0   \n",
      "50%    1.550000e+02  2.205000e+03  1.075000e+03  1.200000e+02        0.0   \n",
      "75%    2.050000e+02  3.433000e+03  1.895000e+03  2.770000e+02        0.0   \n",
      "max    7.000100e+04  9.000220e+05  4.083000e+03  8.380000e+02        0.0   \n",
      "\n",
      "              pt_id         um_id      mp_month       mp_year      mp_price  \\\n",
      "count  1.560551e+06  1.560551e+06  1.560551e+06  1.560551e+06  1.560551e+06   \n",
      "mean   1.491051e+01  1.442846e+01  6.354202e+00  2.014892e+03  6.136956e+03   \n",
      "std    2.958780e-01  2.368151e+01  3.391472e+00  4.382253e+00  1.217337e+05   \n",
      "min    1.400000e+01  5.000000e+00  1.000000e+00  1.990000e+03  0.000000e+00   \n",
      "25%    1.500000e+01  5.000000e+00  3.000000e+00  2.013000e+03  3.540000e+01   \n",
      "50%    1.500000e+01  5.000000e+00  6.000000e+00  2.016000e+03  2.062500e+02   \n",
      "75%    1.500000e+01  9.000000e+00  9.000000e+00  2.018000e+03  8.250000e+02   \n",
      "max    1.800000e+01  1.640000e+02  1.200000e+01  2.020000e+03  2.177778e+07   \n",
      "\n",
      "       mp_commoditysource  \n",
      "count                 0.0  \n",
      "mean                  NaN  \n",
      "std                   NaN  \n",
      "min                   NaN  \n",
      "25%                   NaN  \n",
      "50%                   NaN  \n",
      "75%                   NaN  \n",
      "max                   NaN  \n"
     ]
    }
   ],
   "source": [
    "# Display the first few rows of the DataFrame to understand its structure\n",
    "print(\"First few rows of the dataset:\")\n",
    "print(df.head())\n",
    "\n",
    "# Check the data types and missing values\n",
    "print(\"\\nData types and missing values:\")\n",
    "print(df.info())\n",
    "\n",
    "# Summary statistics for numerical columns\n",
    "print(\"\\nSummary statistics:\")\n",
    "print(df.describe())"
   ]
  },
  {
   "cell_type": "markdown",
   "id": "852d4f3a-01cd-4128-a735-c00fb7b59ae5",
   "metadata": {
    "id": "852d4f3a-01cd-4128-a735-c00fb7b59ae5"
   },
   "source": [
    "# **II. Data Transformation**"
   ]
  },
  {
   "cell_type": "markdown",
   "id": "e7a90fc2-2a27-4e91-9b1b-e59c5606dce2",
   "metadata": {
    "id": "e7a90fc2-2a27-4e91-9b1b-e59c5606dce2"
   },
   "source": [
    "## 1. Data cleaning"
   ]
  },
  {
   "cell_type": "markdown",
   "id": "n_jaSTHOH7BT",
   "metadata": {
    "id": "n_jaSTHOH7BT"
   },
   "source": [
    "\n",
    "\n",
    "Handle Missing Values\n",
    "\n"
   ]
  },
  {
   "cell_type": "code",
   "execution_count": 96,
   "id": "fc4570a7-38b7-49a6-a3a6-0eeadb64cfa2",
   "metadata": {
    "colab": {
     "base_uri": "https://localhost:8080/"
    },
    "id": "fc4570a7-38b7-49a6-a3a6-0eeadb64cfa2",
    "outputId": "99959d9d-9d4d-4092-ca05-652258b3eff2"
   },
   "outputs": [
    {
     "name": "stdout",
     "output_type": "stream",
     "text": [
      "adm0_id                     0\n",
      "adm0_name                   0\n",
      "adm1_id                     0\n",
      "adm1_name              471328\n",
      "mkt_id                      0\n",
      "mkt_name                    0\n",
      "cm_id                       0\n",
      "cm_name                     0\n",
      "cur_id                      0\n",
      "cur_name                    0\n",
      "pt_id                       0\n",
      "pt_name                     0\n",
      "um_id                       0\n",
      "um_name                     0\n",
      "mp_month                    0\n",
      "mp_year                     0\n",
      "mp_price                    0\n",
      "mp_commoditysource    1560551\n",
      "dtype: int64\n"
     ]
    }
   ],
   "source": [
    "print(df.isnull().sum())"
   ]
  },
  {
   "cell_type": "code",
   "execution_count": 97,
   "id": "093393c3-0ad0-48ff-ab1a-25a6fab0478a",
   "metadata": {
    "colab": {
     "base_uri": "https://localhost:8080/"
    },
    "id": "093393c3-0ad0-48ff-ab1a-25a6fab0478a",
    "outputId": "19877113-c78b-4da8-87d9-559ac9d99d38"
   },
   "outputs": [
    {
     "name": "stdout",
     "output_type": "stream",
     "text": [
      "Missing Values:\n",
      "adm0_id                     0\n",
      "adm0_name                   0\n",
      "adm1_id                     0\n",
      "adm1_name              471328\n",
      "mkt_id                      0\n",
      "mkt_name                    0\n",
      "cm_id                       0\n",
      "cm_name                     0\n",
      "cur_id                      0\n",
      "cur_name                    0\n",
      "pt_id                       0\n",
      "pt_name                     0\n",
      "um_id                       0\n",
      "um_name                     0\n",
      "mp_month                    0\n",
      "mp_year                     0\n",
      "mp_price                    0\n",
      "mp_commoditysource    1560551\n",
      "dtype: int64\n",
      "Missing Values After Imputation:\n",
      "adm0_id                     0\n",
      "adm0_name                   0\n",
      "adm1_id                     0\n",
      "adm1_name                   0\n",
      "mkt_id                      0\n",
      "mkt_name                    0\n",
      "cm_id                       0\n",
      "cm_name                     0\n",
      "cur_id                      0\n",
      "cur_name                    0\n",
      "pt_id                       0\n",
      "pt_name                     0\n",
      "um_id                       0\n",
      "um_name                     0\n",
      "mp_month                    0\n",
      "mp_year                     0\n",
      "mp_price                    0\n",
      "mp_commoditysource    1560551\n",
      "dtype: int64\n"
     ]
    }
   ],
   "source": [
    "# Check for missing values in the dataset\n",
    "missing_values = df.isnull().sum()\n",
    "print(\"Missing Values:\")\n",
    "print(missing_values)\n",
    "\n",
    "# Impute missing values with mean for numerical columns\n",
    "numerical_cols = df.select_dtypes(include='number').columns\n",
    "df[numerical_cols] = df[numerical_cols].fillna(df[numerical_cols].mean())\n",
    "\n",
    "# Impute missing values with mode for categorical columns\n",
    "categorical_cols = df.select_dtypes(exclude='number').columns\n",
    "df[categorical_cols] = df[categorical_cols].fillna(df[categorical_cols].mode().iloc[0])\n",
    "\n",
    "# Check if there are any missing values left\n",
    "missing_values_after_imputation = df.isnull().sum()\n",
    "print(\"Missing Values After Imputation:\")\n",
    "print(missing_values_after_imputation)"
   ]
  },
  {
   "cell_type": "markdown",
   "id": "d5624483-299c-47bf-ae9a-09e8a75c36a2",
   "metadata": {
    "id": "d5624483-299c-47bf-ae9a-09e8a75c36a2"
   },
   "source": [
    "Remove Duplicated Rows"
   ]
  },
  {
   "cell_type": "code",
   "execution_count": 98,
   "id": "509ae010-126f-4c81-b981-4764da820762",
   "metadata": {
    "id": "509ae010-126f-4c81-b981-4764da820762"
   },
   "outputs": [],
   "source": [
    "# Remove duplicate rows from the dataset\n",
    "df.drop_duplicates(inplace=True)"
   ]
  },
  {
   "cell_type": "markdown",
   "id": "92398982-9e70-4275-8eaf-9cd221e7d329",
   "metadata": {
    "id": "92398982-9e70-4275-8eaf-9cd221e7d329"
   },
   "source": [
    "## 2. Aggregation and Summerization"
   ]
  },
  {
   "cell_type": "markdown",
   "id": "WxUa99R0IS-Z",
   "metadata": {
    "id": "WxUa99R0IS-Z"
   },
   "source": [
    "Aggregating Prices by Mean"
   ]
  },
  {
   "cell_type": "code",
   "execution_count": 99,
   "id": "cf90139f-31fb-43d5-8c57-1cff161543f5",
   "metadata": {
    "id": "cf90139f-31fb-43d5-8c57-1cff161543f5"
   },
   "outputs": [],
   "source": [
    "# Aggregating prices by calculating the mean price for each commodity\n",
    "commodity_mean_prices = df.groupby('cm_name')['mp_price'].mean().reset_index()"
   ]
  },
  {
   "cell_type": "markdown",
   "id": "Cs0sBe8mIicw",
   "metadata": {
    "id": "Cs0sBe8mIicw"
   },
   "source": [
    "Summerizing By Market"
   ]
  },
  {
   "cell_type": "code",
   "execution_count": 100,
   "id": "RCxeuLa6Ikbm",
   "metadata": {
    "id": "RCxeuLa6Ikbm"
   },
   "outputs": [],
   "source": [
    "market_summary = df.groupby('mkt_name').agg({'mp_price': ['mean', 'median', 'std']}).reset_index()"
   ]
  },
  {
   "cell_type": "markdown",
   "id": "667e0c82-1a8e-4db5-8a82-342416fc4f05",
   "metadata": {
    "id": "667e0c82-1a8e-4db5-8a82-342416fc4f05"
   },
   "source": [
    "## 3. Feature Engineering\n",
    "\n"
   ]
  },
  {
   "cell_type": "code",
   "execution_count": 101,
   "id": "UNUgaNXHK3_8",
   "metadata": {
    "id": "UNUgaNXHK3_8"
   },
   "outputs": [],
   "source": [
    "# Creating a New Feature: Price Differential\n",
    "df['price_diff'] = df.groupby('cm_name')['mp_price'].transform(lambda x: x.max() - x.min())"
   ]
  },
  {
   "cell_type": "markdown",
   "id": "J0WPftRnJm_F",
   "metadata": {
    "id": "J0WPftRnJm_F"
   },
   "source": [
    "## 4. Data Formatting"
   ]
  },
  {
   "cell_type": "markdown",
   "id": "A9C4jYKsJwML",
   "metadata": {
    "id": "A9C4jYKsJwML"
   },
   "source": [
    "Parsing Dates"
   ]
  },
  {
   "cell_type": "code",
   "execution_count": 102,
   "id": "DWH8odklJxWs",
   "metadata": {
    "id": "DWH8odklJxWs"
   },
   "outputs": [],
   "source": [
    "# Convert 'mp_year' and 'mp_month' to integers\n",
    "df['mp_year'] = df['mp_year'].astype(int)\n",
    "df['mp_month'] = df['mp_month'].astype(int)\n",
    "\n",
    "# Concatenate 'mp_year' and 'mp_month' as strings and then convert to datetime\n",
    "df['date'] = pd.to_datetime(df['mp_year'].astype(str) + '-' + df['mp_month'].astype(str), format='%Y-%m')"
   ]
  },
  {
   "cell_type": "markdown",
   "id": "o7QZlMNUJ13q",
   "metadata": {
    "id": "o7QZlMNUJ13q"
   },
   "source": [
    "## 5. Data Filtering and Subset Selection"
   ]
  },
  {
   "cell_type": "markdown",
   "id": "aqeLR6ROOwZZ",
   "metadata": {
    "id": "aqeLR6ROOwZZ"
   },
   "source": [
    "Filtering Outliers"
   ]
  },
  {
   "cell_type": "code",
   "execution_count": 103,
   "id": "GeAUOCj8OztE",
   "metadata": {
    "id": "GeAUOCj8OztE"
   },
   "outputs": [],
   "source": [
    "# Define a function to detect outliers using z-score\n",
    "def detect_outliers(series, threshold=3):\n",
    "    z_scores = (series - series.mean()) / series.std()\n",
    "    return series[abs(z_scores) > threshold]\n",
    "\n",
    "# Remove outliers in mp_price column\n",
    "df = df[~df['mp_price'].isin(detect_outliers(df['mp_price']))]\n"
   ]
  },
  {
   "cell_type": "markdown",
   "id": "8IFB6qd4O4DC",
   "metadata": {
    "id": "8IFB6qd4O4DC"
   },
   "source": [
    "## 6. Advanced Analysis"
   ]
  },
  {
   "cell_type": "code",
   "execution_count": 104,
   "id": "c1Rg6BjyPSrR",
   "metadata": {
    "colab": {
     "base_uri": "https://localhost:8080/",
     "height": 957
    },
    "id": "c1Rg6BjyPSrR",
    "outputId": "3211b215-c4c3-444b-d750-3dd3374e690f"
   },
   "outputs": [
    {
     "data": {
      "image/png": "[encoded data removed]",
      "text/plain": [
       "<Figure size 640x480 with 4 Axes>"
      ]
     },
     "execution_count": 104,
     "metadata": {},
     "output_type": "execute_result"
    },
    {
     "data": {
      "image/png": "[encoded data removed]",
      "text/plain": [
       "<Figure size 640x480 with 4 Axes>"
      ]
     },
     "metadata": {},
     "output_type": "display_data"
    }
   ],
   "source": [
    "# Assuming 'date' column has been parsed\n",
    "# Perform time series analysis, such as decomposition or forecasting, to identify trends and seasonality in food prices\n",
    "from statsmodels.tsa.seasonal import seasonal_decompose\n",
    "\n",
    "# Decompose time series data into trend, seasonal, and residual components\n",
    "result = seasonal_decompose(df.set_index('date')['mp_price'], model='additive', period=12)  # Assuming the data has monthly frequency\n",
    "\n",
    "# Plot the decomposed components\n",
    "result.plot()\n"
   ]
  },
  {
   "cell_type": "markdown",
   "id": "_5aF-sPXYL6F",
   "metadata": {
    "id": "_5aF-sPXYL6F"
   },
   "source": [
    "# **II. Data Load**"
   ]
  },
  {
   "cell_type": "code",
   "execution_count": 86,
   "id": "tvnggHt8YOUy",
   "metadata": {
    "id": "tvnggHt8YOUy"
   },
   "outputs": [],
   "source": [
    "import psycopg2\n",
    "from sqlalchemy import create_engine\n",
    "\n",
    "# Database connection parameters\n",
    "dbname = 'wfp_etl'\n",
    "user = 'postgres'\n",
    "password = 'Passdaggy'\n",
    "host = 'your_host'\n",
    "port = 'your_port'  # Default port for PostgreSQL is 5432\n",
    "\n",
    "# Establish a connection to the PostgreSQL database\n",
    "conn = psycopg2.connect(\n",
    "    dbname=dbname,\n",
    "    user=user,\n",
    "    password=password,\n",
    "    host=host,\n",
    "    port=port\n",
    ")\n",
    "\n",
    "# Create a cursor object\n",
    "cur = conn.cursor()\n",
    "\n",
    "# Define table creation SQL statements\n",
    "create_commodity_prices_table = \"\"\"\n",
    "CREATE TABLE IF NOT EXISTS commodity_prices (\n",
    "    id SERIAL PRIMARY KEY,\n",
    "    adm0_id INT,\n",
    "    adm0_name VARCHAR(255),\n",
    "    adm1_id INT,\n",
    "    adm1_name VARCHAR(255),\n",
    "    mkt_id INT,\n",
    "    mkt_name VARCHAR(255),\n",
    "    cm_id INT,\n",
    "    cm_name VARCHAR(255),\n",
    "    cur_id INT,\n",
    "    cur_name VARCHAR(255),\n",
    "    pt_id INT,\n",
    "    pt_name VARCHAR(255),\n",
    "    um_id INT,\n",
    "    um_name VARCHAR(255),\n",
    "    mp_month INT,\n",
    "    mp_year INT,\n",
    "    mp_price NUMERIC,\n",
    "    mp_commoditysource VARCHAR(255),\n",
    "    price_diff NUMERIC,\n",
    "    date DATE\n",
    ");\n",
    "\"\"\"\n",
    "\n",
    "# Execute table creation SQL statements\n",
    "cur.execute(create_commodity_prices_table)\n",
    "\n",
    "# Commit the transaction\n",
    "conn.commit()\n",
    "\n",
    "# Create an SQLAlchemy engine\n",
    "engine = create_engine(f'postgresql+psycopg2://{user}:{password}@{host}:{port}/{dbname}')\n",
    "\n",
    "# Load data into the PostgreSQL database\n",
    "df.to_sql('commodity_prices', engine, if_exists='replace', index=False)\n",
    "\n",
    "# Close the cursor and connection\n",
    "cur.close()\n",
    "conn.close()\n"
   ]
  },
  {
   "cell_type": "code",
   "execution_count": 87,
   "id": "cf8cb340-9525-408d-b1f0-26b31b29a509",
   "metadata": {},
   "outputs": [],
   "source": [
    "import psycopg2\n",
    "from sqlalchemy import create_engine\n",
    "\n",
    "# Database connection parameters# Database connection parameters\n",
    "dbname = 'wfp_separated'\n",
    "user = 'postgres'\n",
    "password = 'Passdaggy'\n",
    "host = 'localhost'\n",
    "port = '5432'  # Default port for PostgreSQL is 5432\n",
    "\n",
    "# Establish a connection to the PostgreSQL database\n",
    "conn = psycopg2.connect(\n",
    "    dbname=dbname,\n",
    "    user=user,\n",
    "    password=password,\n",
    "    host=host,\n",
    "    port=port\n",
    ")\n",
    "\n",
    "# Create a cursor object\n",
    "cur = conn.cursor()\n",
    "\n",
    "# Define table creation SQL statements for administrative regions\n",
    "create_admin_regions_table = \"\"\"\n",
    "CREATE TABLE IF NOT EXISTS admin_regions (\n",
    "    adm0_id INT PRIMARY KEY,\n",
    "    adm0_name VARCHAR(255),\n",
    "    adm1_id INT,\n",
    "    adm1_name VARCHAR(255)\n",
    ");\n",
    "\"\"\"\n",
    "\n",
    "# Define table creation SQL statements for markets\n",
    "create_markets_table = \"\"\"\n",
    "CREATE TABLE IF NOT EXISTS markets (\n",
    "    mkt_id INT PRIMARY KEY,\n",
    "    mkt_name VARCHAR(255),\n",
    "    adm1_id INT,\n",
    "    adm1_name VARCHAR(255)\n",
    ");\n",
    "\"\"\"\n",
    "\n",
    "# Define table creation SQL statements for commodities\n",
    "create_commodities_table = \"\"\"\n",
    "CREATE TABLE IF NOT EXISTS commodities (\n",
    "    cm_id INT PRIMARY KEY,\n",
    "    cm_name VARCHAR(255)\n",
    ");\n",
    "\"\"\"\n",
    "\n",
    "# Define table creation SQL statements for market prices\n",
    "create_market_prices_table = \"\"\"\n",
    "CREATE TABLE IF NOT EXISTS market_prices (\n",
    "    id SERIAL PRIMARY KEY,\n",
    "    mkt_id INT,\n",
    "    cm_id INT,\n",
    "    mp_month INT,\n",
    "    mp_year INT,\n",
    "    mp_price NUMERIC,\n",
    "    cur_id INT,\n",
    "    pt_id INT,\n",
    "    um_id INT,\n",
    "    mp_commoditysource VARCHAR(255),\n",
    "    price_diff NUMERIC,\n",
    "    date DATE\n",
    ");\n",
    "\"\"\"\n",
    "\n",
    "# Execute table creation SQL statements\n",
    "cur.execute(create_admin_regions_table)\n",
    "cur.execute(create_markets_table)\n",
    "cur.execute(create_commodities_table)\n",
    "cur.execute(create_market_prices_table)\n",
    "\n",
    "# Commit the transaction\n",
    "conn.commit()\n",
    "\n",
    "# Load data into the PostgreSQL database\n",
    "admin_regions_data = df[['adm0_id', 'adm0_name', 'adm1_id', 'adm1_name']].drop_duplicates()\n",
    "markets_data = df[['mkt_id', 'mkt_name', 'adm1_id', 'adm1_name']].drop_duplicates()\n",
    "commodities_data = df[['cm_id', 'cm_name']].drop_duplicates()\n",
    "market_prices_data = df[['mkt_id', 'cm_id', 'mp_month', 'mp_year', 'mp_price', 'cur_id', 'pt_id', 'um_id', 'mp_commoditysource', 'price_diff', 'date']]\n",
    "\n",
    "# Create an SQLAlchemy engine\n",
    "engine = create_engine(f'postgresql+psycopg2://{user}:{password}@{host}:{port}/{dbname}')\n",
    "\n",
    "# Load administrative regions data into the PostgreSQL database\n",
    "admin_regions_data.to_sql('admin_regions', engine, if_exists='replace', index=False)\n",
    "\n",
    "# Load markets data into the PostgreSQL database\n",
    "markets_data.to_sql('markets', engine, if_exists='replace', index=False)\n",
    "\n",
    "# Load commodities data into the PostgreSQL database\n",
    "commodities_data.to_sql('commodities', engine, if_exists='replace', index=False)\n",
    "\n",
    "# Load market prices data into the PostgreSQL database\n",
    "market_prices_data.to_sql('market_prices', engine, if_exists='replace', index=False)\n",
    "\n",
    "# Close the cursor and connection\n",
    "cur.close()\n",
    "conn.close()\n"
   ]
  },
  {
   "cell_type": "code",
   "execution_count": 112,
   "id": "0d388448-1c37-4bad-bc91-6d0f9e537313",
   "metadata": {},
   "outputs": [],
   "source": [
    "import psycopg2\n",
    "from sqlalchemy import create_engine\n",
    "\n",
    "# Database connection parameters\n",
    "# Database connection parameters\n",
    "dbname = 'wfp_separated'\n",
    "user = 'postgres'\n",
    "password = 'Passdaggy'\n",
    "host = 'localhost'\n",
    "port = '5432'  # Default port for PostgreSQL is 5432\n",
    "\n",
    "# Establish a connection to the PostgreSQL database\n",
    "conn = psycopg2.connect(\n",
    "    dbname=dbname,\n",
    "    user=user,\n",
    "    password=password,\n",
    "    host=host,\n",
    "    port=port\n",
    ")\n",
    "\n",
    "# Create a cursor object\n",
    "cur = conn.cursor()\n",
    "\n",
    "# Define table creation SQL statements for administrative regions\n",
    "create_admin_regions_table = \"\"\"\n",
    "CREATE TABLE IF NOT EXISTS admin_regions (\n",
    "    adm0_id INT PRIMARY KEY,\n",
    "    adm0_name VARCHAR(255),\n",
    "    adm1_id INT,\n",
    "    adm1_name VARCHAR(255)\n",
    ");\n",
    "\"\"\"\n",
    "\n",
    "# Define table creation SQL statements for markets\n",
    "create_markets_table = \"\"\"\n",
    "CREATE TABLE IF NOT EXISTS markets (\n",
    "    mkt_id INT PRIMARY KEY,\n",
    "    mkt_name VARCHAR(255),\n",
    "    adm1_id INT,\n",
    "    adm1_name VARCHAR(255)\n",
    ");\n",
    "\"\"\"\n",
    "\n",
    "# Define table creation SQL statements for commodities\n",
    "create_commodities_table = \"\"\"\n",
    "CREATE TABLE IF NOT EXISTS commodities (\n",
    "    cm_id INT PRIMARY KEY,\n",
    "    cm_name VARCHAR(255)\n",
    ");\n",
    "\"\"\"\n",
    "\n",
    "# Define table creation SQL statements for market prices\n",
    "create_market_prices_table = \"\"\"\n",
    "CREATE TABLE IF NOT EXISTS market_prices (\n",
    "    id SERIAL PRIMARY KEY,\n",
    "    mkt_id INT,\n",
    "    cm_id INT,\n",
    "    mp_month INT,\n",
    "    mp_year INT,\n",
    "    mp_price NUMERIC,\n",
    "    cur_id INT,\n",
    "    pt_id INT,\n",
    "    um_id INT,\n",
    "    mp_commoditysource VARCHAR(255),\n",
    "    price_diff NUMERIC,\n",
    "    date DATE\n",
    ");\n",
    "\"\"\"\n",
    "\n",
    "# Execute table creation SQL statements\n",
    "cur.execute(create_admin_regions_table)\n",
    "cur.execute(create_markets_table)\n",
    "cur.execute(create_commodities_table)\n",
    "cur.execute(create_market_prices_table)\n",
    "\n",
    "# Commit the transaction\n",
    "conn.commit()\n",
    "\n",
    "# Load data into the PostgreSQL database\n",
    "admin_regions_data = df[['adm0_id', 'adm0_name', 'adm1_id', 'adm1_name']].drop_duplicates()\n",
    "markets_data = df[['mkt_id', 'mkt_name', 'adm1_id', 'adm1_name']].drop_duplicates()\n",
    "commodities_data = df[['cm_id', 'cm_name']].drop_duplicates()\n",
    "market_prices_data = df[['mkt_id', 'cm_id', 'mp_month', 'mp_year', 'mp_price', 'cur_id', 'pt_id', 'um_id', 'mp_commoditysource', 'price_diff', 'date']]\n",
    "\n",
    "# Create an SQLAlchemy engine\n",
    "engine = create_engine(f'postgresql+psycopg2://{user}:{password}@{host}:{port}/{dbname}')\n",
    "\n",
    "# Load administrative regions data into the PostgreSQL database\n",
    "admin_regions_data.to_sql('admin_regions', engine, if_exists='replace', index=False)\n",
    "\n",
    "# Load markets data into the PostgreSQL database\n",
    "markets_data.to_sql('markets', engine, if_exists='replace', index=False)\n",
    "\n",
    "# Load commodities data into the PostgreSQL database\n",
    "commodities_data.to_sql('commodities', engine, if_exists='replace', index=False)\n",
    "\n",
    "# Load market prices data into the PostgreSQL database\n",
    "market_prices_data.to_sql('market_prices', engine, if_exists='replace', index=False)\n",
    "\n",
    "# Close the cursor and connection\n",
    "cur.close()\n",
    "conn.close()"
   ]
  },
  {
   "cell_type": "code",
   "execution_count": null,
   "id": "df4eeceb-fc70-4bf4-a37e-dba0fc12868e",
   "metadata": {},
   "outputs": [],
   "source": []
  }
 ],
 "metadata": {
  "colab": {
   "provenance": []
  },
  "kernelspec": {
   "display_name": "Python 3 (ipykernel)",
   "language": "python",
   "name": "python3"
  },
  "language_info": {
   "codemirror_mode": {
    "name": "ipython",
    "version": 3
   },
   "file_extension": ".py",
   "mimetype": "text/x-python",
   "name": "python",
   "nbconvert_exporter": "python",
   "pygments_lexer": "ipython3",
   "version": "3.9.18"
  }
 },
 "nbformat": 4,
 "nbformat_minor": 5
}
